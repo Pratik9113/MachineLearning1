{
  "nbformat": 4,
  "nbformat_minor": 0,
  "metadata": {
    "colab": {
      "provenance": []
    },
    "kernelspec": {
      "name": "python3",
      "display_name": "Python 3"
    },
    "language_info": {
      "name": "python"
    }
  },
  "cells": [
    {
      "cell_type": "code",
      "execution_count": 10,
      "metadata": {
        "colab": {
          "base_uri": "https://localhost:8080/"
        },
        "id": "EsmEsGSjmiel",
        "outputId": "cff915a9-78e4-4f7f-8e60-efcdb6918f6d"
      },
      "outputs": [
        {
          "output_type": "stream",
          "name": "stdout",
          "text": [
            "enter the number of row : 2\n",
            "enter the number of col :2\n",
            "1 232 43 43\n",
            "list in 1D array :  [1, 232, 43, 43]\n",
            "the 2D list is :  [[1, 232], [43, 43]]\n"
          ]
        }
      ],
      "source": [
        "R = int(input(\"enter the number of row : \"))\n",
        "C = int(input(\"enter the number of col :\"))\n",
        "list1 = [int(x) for x in input().split()]\n",
        "print(\"list in 1D array : \", list1)\n",
        "\n",
        "\n",
        "# for printing 2D list\n",
        "a =[]\n",
        "\n",
        "\n",
        "for i in range(R):\n",
        "  a.append([]);\n",
        "  for j in range(C):\n",
        "    a[i].append(list1[C*i +j])\n",
        "\n",
        "print(\"the 2D list is : \", a)"
      ]
    },
    {
      "cell_type": "markdown",
      "source": [
        "# New Section"
      ],
      "metadata": {
        "id": "aePtCNIVp1nT"
      }
    }
  ]
}