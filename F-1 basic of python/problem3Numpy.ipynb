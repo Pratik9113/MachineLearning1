{
  "nbformat": 4,
  "nbformat_minor": 0,
  "metadata": {
    "colab": {
      "provenance": []
    },
    "kernelspec": {
      "name": "python3",
      "display_name": "Python 3"
    },
    "language_info": {
      "name": "python"
    }
  },
  "cells": [
    {
      "cell_type": "code",
      "execution_count": null,
      "metadata": {
        "id": "4UvFr2_h2i3B"
      },
      "outputs": [],
      "source": [
        "import numpy as np\n",
        "import math as m\n",
        "x = [1,2,3]\n",
        "y = [4,5,6]\n",
        "#x = x+10\n",
        "#it give me an error\n"
      ]
    },
    {
      "cell_type": "code",
      "source": [
        "#to avoid this type of error we use numpy lib\n",
        "x = np.array([2,2,2,2])\n",
        "y = np.array([1,1,1,1])\n",
        "x = x+10\n",
        "print(x)\n",
        "print(x +y)"
      ],
      "metadata": {
        "id": "dLph_xAH215N"
      },
      "execution_count": null,
      "outputs": []
    },
    {
      "cell_type": "code",
      "source": [
        "z = np.array([3,4,5,32,2])\n",
        "#it give me an error due to size 5 and 4 in z,y resp\n",
        "print(z+y)\n"
      ],
      "metadata": {
        "colab": {
          "base_uri": "https://localhost:8080/"
        },
        "id": "hHu9-ZSP3OTx",
        "outputId": "120bcb32-2869-48b6-9e3f-e124c572decc"
      },
      "execution_count": 11,
      "outputs": [
        {
          "output_type": "stream",
          "name": "stdout",
          "text": [
            "[ 4  5  6 33]\n"
          ]
        }
      ]
    },
    {
      "cell_type": "code",
      "source": [
        "p1 = np.array([2,2,2])\n",
        "p2 = np.array([1,1,1])\n",
        "val = ((p1-p2)**2).sum()\n",
        "print(val)\n",
        "x = val.sum()\n",
        "print(x.mean())\n",
        "print(x)\n",
        "m.sqrt(x)"
      ],
      "metadata": {
        "colab": {
          "base_uri": "https://localhost:8080/"
        },
        "id": "6_nOtyqb3yHM",
        "outputId": "cc7b2076-ef13-42a2-81df-eb699d78440b"
      },
      "execution_count": 15,
      "outputs": [
        {
          "output_type": "stream",
          "name": "stdout",
          "text": [
            "3\n",
            "3.0\n",
            "3\n"
          ]
        },
        {
          "output_type": "execute_result",
          "data": {
            "text/plain": [
              "1.7320508075688772"
            ]
          },
          "metadata": {},
          "execution_count": 15
        }
      ]
    },
    {
      "cell_type": "code",
      "source": [
        "#find the minimum distance\n",
        "pts = np.array([4,5,6,7])\n",
        "value1 = ((pts-pts.mean())**2).sum()\n",
        "print(value1)\n",
        "print(m.sqrt(value1))"
      ],
      "metadata": {
        "colab": {
          "base_uri": "https://localhost:8080/"
        },
        "id": "_64nveg04XQt",
        "outputId": "2d1c1d15-677e-497e-ede7-ca3e643f8143"
      },
      "execution_count": 18,
      "outputs": [
        {
          "output_type": "stream",
          "name": "stdout",
          "text": [
            "5.0\n",
            "2.23606797749979\n"
          ]
        }
      ]
    },
    {
      "cell_type": "code",
      "source": [
        "#dot multiplication\n",
        "m1 = np.array([1,2,3])\n",
        "m2 = np.array([1,1,1])\n",
        "print(m1.dot(m2))\n"
      ],
      "metadata": {
        "colab": {
          "base_uri": "https://localhost:8080/"
        },
        "id": "p_MYTaK05CIv",
        "outputId": "631d8347-9e10-4c9b-9d7f-99421f2303f1"
      },
      "execution_count": 20,
      "outputs": [
        {
          "output_type": "stream",
          "name": "stdout",
          "text": [
            "6\n"
          ]
        }
      ]
    }
  ]
}