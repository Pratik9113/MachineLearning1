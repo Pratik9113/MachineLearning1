{
  "nbformat": 4,
  "nbformat_minor": 0,
  "metadata": {
    "colab": {
      "provenance": []
    },
    "kernelspec": {
      "name": "python3",
      "display_name": "Python 3"
    },
    "language_info": {
      "name": "python"
    }
  },
  "cells": [
    {
      "cell_type": "code",
      "execution_count": null,
      "metadata": {
        "id": "0faZptl2RgMC"
      },
      "outputs": [],
      "source": [
        "# want to create 2d array\n",
        "import numpy as np\n",
        "np.zeros((3,4))\n",
        "x5 = np.ones(5)\n",
        "#update a value\n",
        "print(x5)\n",
        "x5[2]= 4\n",
        "print(x5)\n",
        "#create 3D array\n",
        "new_array = np.zeros((3,4,5))\n",
        "print(new_array)\n",
        "new_array[0]\n"
      ]
    },
    {
      "cell_type": "code",
      "source": [
        "#shape method\n",
        "a = np.zeros(5)\n",
        "print(a)\n",
        "a[2:5]"
      ],
      "metadata": {
        "colab": {
          "base_uri": "https://localhost:8080/"
        },
        "id": "L8z_rvn1TqUw",
        "outputId": "de79b841-1f32-4231-cbc0-38c66cb65df5"
      },
      "execution_count": 12,
      "outputs": [
        {
          "output_type": "stream",
          "name": "stdout",
          "text": [
            "[0. 0. 0. 0. 0.]\n"
          ]
        },
        {
          "output_type": "execute_result",
          "data": {
            "text/plain": [
              "array([0., 0., 0.])"
            ]
          },
          "metadata": {},
          "execution_count": 12
        }
      ]
    },
    {
      "cell_type": "code",
      "source": [
        "twoD_array = np.array([[1,2,3],[4,5,6],[7,8,9]])\n",
        "print(twoD_array)\n",
        "print(twoD_array[2])\n",
        "print(twoD_array[2:,1])\n",
        "# error print(twoD_array[2:1])\n",
        "print(twoD_array[2:,2])"
      ],
      "metadata": {
        "colab": {
          "base_uri": "https://localhost:8080/"
        },
        "id": "oDyKOyoGT3Yf",
        "outputId": "34457949-a97e-4c1e-cbb9-8203dd68d6e2"
      },
      "execution_count": 26,
      "outputs": [
        {
          "output_type": "stream",
          "name": "stdout",
          "text": [
            "[[1 2 3]\n",
            " [4 5 6]\n",
            " [7 8 9]]\n",
            "[7 8 9]\n",
            "[8]\n",
            "[9]\n"
          ]
        }
      ]
    }
  ]
}