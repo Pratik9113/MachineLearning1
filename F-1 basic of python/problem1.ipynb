{
  "nbformat": 4,
  "nbformat_minor": 0,
  "metadata": {
    "colab": {
      "provenance": []
    },
    "kernelspec": {
      "name": "python3",
      "display_name": "Python 3"
    },
    "language_info": {
      "name": "python"
    }
  },
  "cells": [
    {
      "cell_type": "code",
      "execution_count": null,
      "metadata": {
        "id": "bMknrNme4DpU"
      },
      "outputs": [],
      "source": [
        "#library\n",
        "import math as m\n",
        "x = m.gcd(123,21);\n",
        "print(x)\n",
        "print('a')\n"
      ]
    },
    {
      "cell_type": "code",
      "source": [
        "import math\n",
        "y = math.gcd(125,35);\n",
        "print(y);"
      ],
      "metadata": {
        "colab": {
          "base_uri": "https://localhost:8080/"
        },
        "id": "4EmjF5Qa6LQW",
        "outputId": "08242977-c036-4eca-91de-06b9e6c7f23f"
      },
      "execution_count": 5,
      "outputs": [
        {
          "output_type": "stream",
          "name": "stdout",
          "text": [
            "5\n"
          ]
        }
      ]
    },
    {
      "cell_type": "code",
      "source": [
        "import numpy as np\n",
        "demo =[1,2,'abc']\n",
        "#print(demo)\n",
        "np.array(demo)\n",
        "print(demo)"
      ],
      "metadata": {
        "colab": {
          "base_uri": "https://localhost:8080/"
        },
        "id": "jcsQwVt--6Ec",
        "outputId": "dd68e5e3-6a34-4c56-a793-33ac659d3a47"
      },
      "execution_count": 12,
      "outputs": [
        {
          "output_type": "stream",
          "name": "stdout",
          "text": [
            "[1, 2, 'abc']\n"
          ]
        }
      ]
    },
    {
      "cell_type": "code",
      "source": [
        "np.zeros(5)"
      ],
      "metadata": {
        "colab": {
          "base_uri": "https://localhost:8080/"
        },
        "id": "yx7EHiWz_bLc",
        "outputId": "75472094-6064-4ce7-ade4-aebeaad40a42"
      },
      "execution_count": 13,
      "outputs": [
        {
          "output_type": "execute_result",
          "data": {
            "text/plain": [
              "array([0., 0., 0., 0., 0.])"
            ]
          },
          "metadata": {},
          "execution_count": 13
        }
      ]
    },
    {
      "cell_type": "code",
      "source": [
        "x = np.ones(5)\n",
        "print(x)"
      ],
      "metadata": {
        "colab": {
          "base_uri": "https://localhost:8080/"
        },
        "id": "jjFcBgk1_fyg",
        "outputId": "a204829c-6f3a-4d79-ffda-d68856c43ab7"
      },
      "execution_count": 16,
      "outputs": [
        {
          "output_type": "stream",
          "name": "stdout",
          "text": [
            "[1. 1. 1. 1. 1.]\n"
          ]
        }
      ]
    },
    {
      "cell_type": "code",
      "source": [
        "y = np.zeros(3,int)\n",
        "print(y)\n",
        "y.dtype\n",
        "x = np.ones(4,int)\n",
        "print(x)\n",
        "x.dtype"
      ],
      "metadata": {
        "colab": {
          "base_uri": "https://localhost:8080/"
        },
        "id": "jZ3J0UDY_nFx",
        "outputId": "b01634d3-4cc4-4d76-b5f0-db2c13c725c2"
      },
      "execution_count": 20,
      "outputs": [
        {
          "output_type": "stream",
          "name": "stdout",
          "text": [
            "[0 0 0]\n",
            "[1 1 1 1]\n"
          ]
        },
        {
          "output_type": "execute_result",
          "data": {
            "text/plain": [
              "dtype('int64')"
            ]
          },
          "metadata": {},
          "execution_count": 20
        }
      ]
    },
    {
      "cell_type": "markdown",
      "source": [
        "# New Section"
      ],
      "metadata": {
        "id": "c6NNZ9S2AD-H"
      }
    }
  ]
}