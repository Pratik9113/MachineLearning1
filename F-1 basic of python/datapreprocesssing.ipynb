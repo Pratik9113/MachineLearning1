{
  "nbformat": 4,
  "nbformat_minor": 0,
  "metadata": {
    "colab": {
      "provenance": []
    },
    "kernelspec": {
      "name": "python3",
      "display_name": "Python 3"
    },
    "language_info": {
      "name": "python"
    }
  },
  "cells": [
    {
      "cell_type": "code",
      "execution_count": 1,
      "metadata": {
        "id": "V5Kv0vTBSzro"
      },
      "outputs": [],
      "source": [
        "import matplotlib.pyplot as plt\n",
        "import numpy as np\n",
        "import pandas as pd\n"
      ]
    },
    {
      "cell_type": "markdown",
      "source": [
        "importing database\n"
      ],
      "metadata": {
        "id": "ZhXICzdQTZie"
      }
    },
    {
      "cell_type": "code",
      "source": [
        "data_set = pd.read_csv('/content/Dataset_master - Covid_data_old.csv')\n",
        "X = data_set.iloc[:,:-1].values\n",
        "Y = data_set.iloc[:,-1].values\n",
        "print(X)\n",
        "print(Y)"
      ],
      "metadata": {
        "colab": {
          "base_uri": "https://localhost:8080/"
        },
        "id": "p05s32IHTAcd",
        "outputId": "aaa3a328-afa4-4d9f-c130-f7b267205a95"
      },
      "execution_count": 8,
      "outputs": [
        {
          "output_type": "stream",
          "name": "stdout",
          "text": [
            "[[10.0 'Normal' 'no' 'no' 97.0]\n",
            " [12.0 'Normal' 'no' 'no' 97.0]\n",
            " [15.0 'Normal' 'no' 'no' 94.0]\n",
            " [10.0 'Normal' 'no' 'no' 97.0]\n",
            " [13.0 'Moderate' 'no' 'no' 94.0]\n",
            " [12.0 'Moderate' 'no' 'no' 97.0]\n",
            " [13.0 'Moderate' 'no' 'no' 93.0]\n",
            " [15.0 'Moderate' 'no' 'no' 92.0]\n",
            " [18.0 'Moderate' 'no' 'no' 66.0]\n",
            " [19.0 'Normal' 'no' 'no' 92.0]\n",
            " [20.0 'Normal' 'no' 'no' 93.0]\n",
            " [17.0 'Normal' 'no' 'no' 93.0]\n",
            " [16.0 'Normal' 'no' 'no' 92.0]\n",
            " [18.0 'Normal' 'no' 'no' 93.0]\n",
            " [20.0 'Normal' 'no' 'no' 92.0]\n",
            " [25.0 'Moderate' 'no' 'no' 93.0]\n",
            " [24.0 'Moderate' 'no' 'no' 92.0]\n",
            " [26.0 'High' 'no' 'no' 94.0]\n",
            " [28.0 'Normal' 'no' 'no' 99.0]\n",
            " [29.0 'Normal' 'no' 'no' 93.0]\n",
            " [30.0 'Moderate' 'no' 'no' 62.0]\n",
            " [19.0 'Normal' 'no' 'no' 89.0]\n",
            " [25.0 'Normal' 'no' 'yes' 86.0]\n",
            " [26.0 'Normal' 'no' 'no' nan]\n",
            " [28.0 'Normal' 'no' 'no' 89.0]\n",
            " [30.0 'Moderate' 'yes' 'no' 86.0]\n",
            " [35.0 'Moderate' 'no' 'no' 89.0]\n",
            " [32.0 'Moderate' 'no' 'yes' 84.0]\n",
            " [nan 'Moderate' 'yes' 'no' 90.0]\n",
            " [32.0 'Moderate' 'no' 'no' 89.0]\n",
            " [35.0 'Moderate' 'no' 'yes' 92.0]\n",
            " [38.0 'High' 'no' 'no' 75.0]\n",
            " [40.0 'Moderate' 'no' 'yes' 90.0]\n",
            " [46.0 'High' 'yes' 'no' 91.0]\n",
            " [48.0 'Moderate' 'no' 'yes' 93.0]\n",
            " [42.0 'High' 'no' 'no' 92.0]\n",
            " [40.0 'High' 'no' 'no' 92.0]\n",
            " [49.0 'Moderate' 'no' 'no' 80.0]\n",
            " [50.0 'High' 'yes' 'yes' 77.0]\n",
            " [36.0 'High' 'yes' 'no' 90.0]\n",
            " [52.0 'High' 'yes' 'yes' 80.0]\n",
            " [56.0 'High' 'yes' 'yes' 77.0]\n",
            " [58.0 'High' 'no' 'no' 70.0]\n",
            " [59.0 'High' 'no' 'yes' 69.0]\n",
            " [60.0 'High' 'yes' 'yes' 68.0]\n",
            " [53.0 'High' 'yes' 'no' 55.0]\n",
            " [54.0 'High' 'yes' 'yes' 70.0]\n",
            " [62.0 'High' 'yes' 'yes' 68.0]\n",
            " [63.0 'High' 'yes' 'yes' 66.0]\n",
            " [68.0 'High' 'yes' 'no' 67.0]\n",
            " [69.0 'High' 'no' 'yes' 53.0]\n",
            " [64.0 'High' 'yes' 'yes' 73.0]\n",
            " [61.0 'High' 'yes' 'yes' 76.0]\n",
            " [70.0 'Normal' 'no' 'yes' 88.0]\n",
            " [59.0 'High' 'yes' 'no' 68.0]\n",
            " [62.0 'High' 'yes' 'yes' 69.0]\n",
            " [78.0 'High' 'yes' 'yes' 71.0]\n",
            " [74.0 'High' 'yes' 'yes' 75.0]\n",
            " [75.0 'High' 'no' 'yes' 72.0]\n",
            " [56.0 'High' 'yes' 'no' 76.0]\n",
            " [80.0 'High' 'no' 'yes' 92.0]\n",
            " [82.0 'High' 'yes' 'yes' 73.0]\n",
            " [86.0 'High' 'yes' 'yes' 71.0]\n",
            " [90.0 'High' 'yes' 'yes' 67.0]\n",
            " [84.0 'High' 'yes' 'yes' 75.0]\n",
            " [86.0 'High' 'no' 'yes' 76.0]\n",
            " [61.0 'Moderate' 'no' 'yes' 90.0]\n",
            " [94.0 'High' 'yes' 'yes' 64.0]\n",
            " [81.0 'High' 'yes' 'yes' 75.0]\n",
            " [76.0 'High' 'yes' 'yes' 80.0]]\n",
            "['No' 'No' 'No' 'No' 'No' 'No' 'No' 'No' 'Yes' 'No' 'No' 'No' 'No' 'No'\n",
            " 'No' 'No' 'No' 'No' 'No' 'No' 'Yes' 'No' 'No' 'No' 'No' 'No' 'No' 'No'\n",
            " 'No' 'No' 'No' 'Yes' 'No' 'No' 'No' 'No' 'No' 'Yes' 'Yes' 'No' 'Yes'\n",
            " 'Yes' 'Yes' 'Yes' 'Yes' 'Yes' 'Yes' 'Yes' 'Yes' 'Yes' 'Yes' 'Yes' 'Yes'\n",
            " 'No' 'Yes' 'Yes' 'Yes' 'Yes' 'Yes' 'Yes' 'No' 'Yes' 'Yes' 'Yes' 'Yes'\n",
            " 'Yes' 'No' 'Yes' 'Yes' 'Yes']\n"
          ]
        }
      ]
    },
    {
      "cell_type": "markdown",
      "source": [
        "handling missing data\n"
      ],
      "metadata": {
        "id": "B5JRiYaHVnXe"
      }
    },
    {
      "cell_type": "code",
      "source": [
        "from sklearn.impute import SimpleImputer\n",
        "imputer = SimpleImputer(missing_values=np.nan, strategy = 'mean' )\n",
        "imputer.fit(X[:,0:1])\n",
        "X[:,0:1] = imputer.transform(X[:,0:1])\n",
        "print(X)"
      ],
      "metadata": {
        "colab": {
          "base_uri": "https://localhost:8080/"
        },
        "id": "0K_8sbq-Vrn_",
        "outputId": "59ddc86c-3cf1-459c-af30-fce65f498f86"
      },
      "execution_count": 16,
      "outputs": [
        {
          "output_type": "stream",
          "name": "stdout",
          "text": [
            "[[10.0 'Normal' 'no' 'no' 97.0]\n",
            " [12.0 'Normal' 'no' 'no' 97.0]\n",
            " [15.0 'Normal' 'no' 'no' 94.0]\n",
            " [10.0 'Normal' 'no' 'no' 97.0]\n",
            " [13.0 'Moderate' 'no' 'no' 94.0]\n",
            " [12.0 'Moderate' 'no' 'no' 97.0]\n",
            " [13.0 'Moderate' 'no' 'no' 93.0]\n",
            " [15.0 'Moderate' 'no' 'no' 92.0]\n",
            " [18.0 'Moderate' 'no' 'no' 66.0]\n",
            " [19.0 'Normal' 'no' 'no' 92.0]\n",
            " [20.0 'Normal' 'no' 'no' 93.0]\n",
            " [17.0 'Normal' 'no' 'no' 93.0]\n",
            " [16.0 'Normal' 'no' 'no' 92.0]\n",
            " [18.0 'Normal' 'no' 'no' 93.0]\n",
            " [20.0 'Normal' 'no' 'no' 92.0]\n",
            " [25.0 'Moderate' 'no' 'no' 93.0]\n",
            " [24.0 'Moderate' 'no' 'no' 92.0]\n",
            " [26.0 'High' 'no' 'no' 94.0]\n",
            " [28.0 'Normal' 'no' 'no' 99.0]\n",
            " [29.0 'Normal' 'no' 'no' 93.0]\n",
            " [30.0 'Moderate' 'no' 'no' 62.0]\n",
            " [19.0 'Normal' 'no' 'no' 89.0]\n",
            " [25.0 'Normal' 'no' 'yes' 86.0]\n",
            " [26.0 'Normal' 'no' 'no' 82.07246376811594]\n",
            " [28.0 'Normal' 'no' 'no' 89.0]\n",
            " [30.0 'Moderate' 'yes' 'no' 86.0]\n",
            " [35.0 'Moderate' 'no' 'no' 89.0]\n",
            " [32.0 'Moderate' 'no' 'yes' 84.0]\n",
            " [45.130434782608695 'Moderate' 'yes' 'no' 90.0]\n",
            " [32.0 'Moderate' 'no' 'no' 89.0]\n",
            " [35.0 'Moderate' 'no' 'yes' 92.0]\n",
            " [38.0 'High' 'no' 'no' 75.0]\n",
            " [40.0 'Moderate' 'no' 'yes' 90.0]\n",
            " [46.0 'High' 'yes' 'no' 91.0]\n",
            " [48.0 'Moderate' 'no' 'yes' 93.0]\n",
            " [42.0 'High' 'no' 'no' 92.0]\n",
            " [40.0 'High' 'no' 'no' 92.0]\n",
            " [49.0 'Moderate' 'no' 'no' 80.0]\n",
            " [50.0 'High' 'yes' 'yes' 77.0]\n",
            " [36.0 'High' 'yes' 'no' 90.0]\n",
            " [52.0 'High' 'yes' 'yes' 80.0]\n",
            " [56.0 'High' 'yes' 'yes' 77.0]\n",
            " [58.0 'High' 'no' 'no' 70.0]\n",
            " [59.0 'High' 'no' 'yes' 69.0]\n",
            " [60.0 'High' 'yes' 'yes' 68.0]\n",
            " [53.0 'High' 'yes' 'no' 55.0]\n",
            " [54.0 'High' 'yes' 'yes' 70.0]\n",
            " [62.0 'High' 'yes' 'yes' 68.0]\n",
            " [63.0 'High' 'yes' 'yes' 66.0]\n",
            " [68.0 'High' 'yes' 'no' 67.0]\n",
            " [69.0 'High' 'no' 'yes' 53.0]\n",
            " [64.0 'High' 'yes' 'yes' 73.0]\n",
            " [61.0 'High' 'yes' 'yes' 76.0]\n",
            " [70.0 'Normal' 'no' 'yes' 88.0]\n",
            " [59.0 'High' 'yes' 'no' 68.0]\n",
            " [62.0 'High' 'yes' 'yes' 69.0]\n",
            " [78.0 'High' 'yes' 'yes' 71.0]\n",
            " [74.0 'High' 'yes' 'yes' 75.0]\n",
            " [75.0 'High' 'no' 'yes' 72.0]\n",
            " [56.0 'High' 'yes' 'no' 76.0]\n",
            " [80.0 'High' 'no' 'yes' 92.0]\n",
            " [82.0 'High' 'yes' 'yes' 73.0]\n",
            " [86.0 'High' 'yes' 'yes' 71.0]\n",
            " [90.0 'High' 'yes' 'yes' 67.0]\n",
            " [84.0 'High' 'yes' 'yes' 75.0]\n",
            " [86.0 'High' 'no' 'yes' 76.0]\n",
            " [61.0 'Moderate' 'no' 'yes' 90.0]\n",
            " [94.0 'High' 'yes' 'yes' 64.0]\n",
            " [81.0 'High' 'yes' 'yes' 75.0]\n",
            " [76.0 'High' 'yes' 'yes' 80.0]]\n"
          ]
        }
      ]
    },
    {
      "cell_type": "code",
      "source": [
        "imputer.fit(X[:,4:5])\n",
        "X[:,4:5] = imputer.transform(X[:,4:5])\n",
        "print(X)"
      ],
      "metadata": {
        "colab": {
          "base_uri": "https://localhost:8080/"
        },
        "id": "VwJtIys_ZrxS",
        "outputId": "a8a283c0-535f-47d0-8819-44f5724d95f9"
      },
      "execution_count": 17,
      "outputs": [
        {
          "output_type": "stream",
          "name": "stdout",
          "text": [
            "[[10.0 'Normal' 'no' 'no' 97.0]\n",
            " [12.0 'Normal' 'no' 'no' 97.0]\n",
            " [15.0 'Normal' 'no' 'no' 94.0]\n",
            " [10.0 'Normal' 'no' 'no' 97.0]\n",
            " [13.0 'Moderate' 'no' 'no' 94.0]\n",
            " [12.0 'Moderate' 'no' 'no' 97.0]\n",
            " [13.0 'Moderate' 'no' 'no' 93.0]\n",
            " [15.0 'Moderate' 'no' 'no' 92.0]\n",
            " [18.0 'Moderate' 'no' 'no' 66.0]\n",
            " [19.0 'Normal' 'no' 'no' 92.0]\n",
            " [20.0 'Normal' 'no' 'no' 93.0]\n",
            " [17.0 'Normal' 'no' 'no' 93.0]\n",
            " [16.0 'Normal' 'no' 'no' 92.0]\n",
            " [18.0 'Normal' 'no' 'no' 93.0]\n",
            " [20.0 'Normal' 'no' 'no' 92.0]\n",
            " [25.0 'Moderate' 'no' 'no' 93.0]\n",
            " [24.0 'Moderate' 'no' 'no' 92.0]\n",
            " [26.0 'High' 'no' 'no' 94.0]\n",
            " [28.0 'Normal' 'no' 'no' 99.0]\n",
            " [29.0 'Normal' 'no' 'no' 93.0]\n",
            " [30.0 'Moderate' 'no' 'no' 62.0]\n",
            " [19.0 'Normal' 'no' 'no' 89.0]\n",
            " [25.0 'Normal' 'no' 'yes' 86.0]\n",
            " [26.0 'Normal' 'no' 'no' 82.07246376811594]\n",
            " [28.0 'Normal' 'no' 'no' 89.0]\n",
            " [30.0 'Moderate' 'yes' 'no' 86.0]\n",
            " [35.0 'Moderate' 'no' 'no' 89.0]\n",
            " [32.0 'Moderate' 'no' 'yes' 84.0]\n",
            " [45.130434782608695 'Moderate' 'yes' 'no' 90.0]\n",
            " [32.0 'Moderate' 'no' 'no' 89.0]\n",
            " [35.0 'Moderate' 'no' 'yes' 92.0]\n",
            " [38.0 'High' 'no' 'no' 75.0]\n",
            " [40.0 'Moderate' 'no' 'yes' 90.0]\n",
            " [46.0 'High' 'yes' 'no' 91.0]\n",
            " [48.0 'Moderate' 'no' 'yes' 93.0]\n",
            " [42.0 'High' 'no' 'no' 92.0]\n",
            " [40.0 'High' 'no' 'no' 92.0]\n",
            " [49.0 'Moderate' 'no' 'no' 80.0]\n",
            " [50.0 'High' 'yes' 'yes' 77.0]\n",
            " [36.0 'High' 'yes' 'no' 90.0]\n",
            " [52.0 'High' 'yes' 'yes' 80.0]\n",
            " [56.0 'High' 'yes' 'yes' 77.0]\n",
            " [58.0 'High' 'no' 'no' 70.0]\n",
            " [59.0 'High' 'no' 'yes' 69.0]\n",
            " [60.0 'High' 'yes' 'yes' 68.0]\n",
            " [53.0 'High' 'yes' 'no' 55.0]\n",
            " [54.0 'High' 'yes' 'yes' 70.0]\n",
            " [62.0 'High' 'yes' 'yes' 68.0]\n",
            " [63.0 'High' 'yes' 'yes' 66.0]\n",
            " [68.0 'High' 'yes' 'no' 67.0]\n",
            " [69.0 'High' 'no' 'yes' 53.0]\n",
            " [64.0 'High' 'yes' 'yes' 73.0]\n",
            " [61.0 'High' 'yes' 'yes' 76.0]\n",
            " [70.0 'Normal' 'no' 'yes' 88.0]\n",
            " [59.0 'High' 'yes' 'no' 68.0]\n",
            " [62.0 'High' 'yes' 'yes' 69.0]\n",
            " [78.0 'High' 'yes' 'yes' 71.0]\n",
            " [74.0 'High' 'yes' 'yes' 75.0]\n",
            " [75.0 'High' 'no' 'yes' 72.0]\n",
            " [56.0 'High' 'yes' 'no' 76.0]\n",
            " [80.0 'High' 'no' 'yes' 92.0]\n",
            " [82.0 'High' 'yes' 'yes' 73.0]\n",
            " [86.0 'High' 'yes' 'yes' 71.0]\n",
            " [90.0 'High' 'yes' 'yes' 67.0]\n",
            " [84.0 'High' 'yes' 'yes' 75.0]\n",
            " [86.0 'High' 'no' 'yes' 76.0]\n",
            " [61.0 'Moderate' 'no' 'yes' 90.0]\n",
            " [94.0 'High' 'yes' 'yes' 64.0]\n",
            " [81.0 'High' 'yes' 'yes' 75.0]\n",
            " [76.0 'High' 'yes' 'yes' 80.0]]\n"
          ]
        }
      ]
    },
    {
      "cell_type": "markdown",
      "source": [
        "encoding categorial data\n"
      ],
      "metadata": {
        "id": "sS0jcIlrZ55i"
      }
    },
    {
      "cell_type": "code",
      "source": [
        "from sklearn.compose import ColumnTransformer\n",
        "from sklearn.preprocessing import OneHotEncoder"
      ],
      "metadata": {
        "id": "DJQYIY1pZ86k"
      },
      "execution_count": 18,
      "outputs": []
    },
    {
      "cell_type": "code",
      "source": [
        "ct = ColumnTransformer([('encoder', OneHotEncoder() , [1])], remainder = 'passthrough')\n",
        "X = np.array(ct.fit_transform(X,int))\n",
        "print(X)\n",
        "print(Y)"
      ],
      "metadata": {
        "colab": {
          "base_uri": "https://localhost:8080/"
        },
        "id": "6sCzaJFidUnJ",
        "outputId": "54f6d80f-2346-48d4-c90b-076290114ca1"
      },
      "execution_count": 23,
      "outputs": [
        {
          "output_type": "stream",
          "name": "stdout",
          "text": [
            "[[1.0 0.0 0.0 1.0 10.0 'no' 'no' 97.0]\n",
            " [1.0 0.0 0.0 1.0 12.0 'no' 'no' 97.0]\n",
            " [1.0 0.0 0.0 1.0 15.0 'no' 'no' 94.0]\n",
            " [1.0 0.0 0.0 1.0 10.0 'no' 'no' 97.0]\n",
            " [0.0 1.0 0.0 0.0 13.0 'no' 'no' 94.0]\n",
            " [0.0 1.0 0.0 0.0 12.0 'no' 'no' 97.0]\n",
            " [0.0 1.0 0.0 0.0 13.0 'no' 'no' 93.0]\n",
            " [0.0 1.0 0.0 0.0 15.0 'no' 'no' 92.0]\n",
            " [0.0 1.0 0.0 0.0 18.0 'no' 'no' 66.0]\n",
            " [1.0 0.0 0.0 1.0 19.0 'no' 'no' 92.0]\n",
            " [1.0 0.0 0.0 1.0 20.0 'no' 'no' 93.0]\n",
            " [1.0 0.0 0.0 1.0 17.0 'no' 'no' 93.0]\n",
            " [1.0 0.0 0.0 1.0 16.0 'no' 'no' 92.0]\n",
            " [1.0 0.0 0.0 1.0 18.0 'no' 'no' 93.0]\n",
            " [1.0 0.0 0.0 1.0 20.0 'no' 'no' 92.0]\n",
            " [0.0 1.0 0.0 0.0 25.0 'no' 'no' 93.0]\n",
            " [0.0 1.0 0.0 0.0 24.0 'no' 'no' 92.0]\n",
            " [1.0 0.0 1.0 0.0 26.0 'no' 'no' 94.0]\n",
            " [1.0 0.0 0.0 1.0 28.0 'no' 'no' 99.0]\n",
            " [1.0 0.0 0.0 1.0 29.0 'no' 'no' 93.0]\n",
            " [0.0 1.0 0.0 0.0 30.0 'no' 'no' 62.0]\n",
            " [1.0 0.0 0.0 1.0 19.0 'no' 'no' 89.0]\n",
            " [1.0 0.0 0.0 1.0 25.0 'no' 'yes' 86.0]\n",
            " [1.0 0.0 0.0 1.0 26.0 'no' 'no' 82.07246376811594]\n",
            " [1.0 0.0 0.0 1.0 28.0 'no' 'no' 89.0]\n",
            " [0.0 1.0 0.0 0.0 30.0 'yes' 'no' 86.0]\n",
            " [0.0 1.0 0.0 0.0 35.0 'no' 'no' 89.0]\n",
            " [0.0 1.0 0.0 0.0 32.0 'no' 'yes' 84.0]\n",
            " [0.0 1.0 0.0 0.0 45.130434782608695 'yes' 'no' 90.0]\n",
            " [0.0 1.0 0.0 0.0 32.0 'no' 'no' 89.0]\n",
            " [0.0 1.0 0.0 0.0 35.0 'no' 'yes' 92.0]\n",
            " [1.0 0.0 1.0 0.0 38.0 'no' 'no' 75.0]\n",
            " [0.0 1.0 0.0 0.0 40.0 'no' 'yes' 90.0]\n",
            " [1.0 0.0 1.0 0.0 46.0 'yes' 'no' 91.0]\n",
            " [0.0 1.0 0.0 0.0 48.0 'no' 'yes' 93.0]\n",
            " [1.0 0.0 1.0 0.0 42.0 'no' 'no' 92.0]\n",
            " [1.0 0.0 1.0 0.0 40.0 'no' 'no' 92.0]\n",
            " [0.0 1.0 0.0 0.0 49.0 'no' 'no' 80.0]\n",
            " [1.0 0.0 1.0 0.0 50.0 'yes' 'yes' 77.0]\n",
            " [1.0 0.0 1.0 0.0 36.0 'yes' 'no' 90.0]\n",
            " [1.0 0.0 1.0 0.0 52.0 'yes' 'yes' 80.0]\n",
            " [1.0 0.0 1.0 0.0 56.0 'yes' 'yes' 77.0]\n",
            " [1.0 0.0 1.0 0.0 58.0 'no' 'no' 70.0]\n",
            " [1.0 0.0 1.0 0.0 59.0 'no' 'yes' 69.0]\n",
            " [1.0 0.0 1.0 0.0 60.0 'yes' 'yes' 68.0]\n",
            " [1.0 0.0 1.0 0.0 53.0 'yes' 'no' 55.0]\n",
            " [1.0 0.0 1.0 0.0 54.0 'yes' 'yes' 70.0]\n",
            " [1.0 0.0 1.0 0.0 62.0 'yes' 'yes' 68.0]\n",
            " [1.0 0.0 1.0 0.0 63.0 'yes' 'yes' 66.0]\n",
            " [1.0 0.0 1.0 0.0 68.0 'yes' 'no' 67.0]\n",
            " [1.0 0.0 1.0 0.0 69.0 'no' 'yes' 53.0]\n",
            " [1.0 0.0 1.0 0.0 64.0 'yes' 'yes' 73.0]\n",
            " [1.0 0.0 1.0 0.0 61.0 'yes' 'yes' 76.0]\n",
            " [1.0 0.0 0.0 1.0 70.0 'no' 'yes' 88.0]\n",
            " [1.0 0.0 1.0 0.0 59.0 'yes' 'no' 68.0]\n",
            " [1.0 0.0 1.0 0.0 62.0 'yes' 'yes' 69.0]\n",
            " [1.0 0.0 1.0 0.0 78.0 'yes' 'yes' 71.0]\n",
            " [1.0 0.0 1.0 0.0 74.0 'yes' 'yes' 75.0]\n",
            " [1.0 0.0 1.0 0.0 75.0 'no' 'yes' 72.0]\n",
            " [1.0 0.0 1.0 0.0 56.0 'yes' 'no' 76.0]\n",
            " [1.0 0.0 1.0 0.0 80.0 'no' 'yes' 92.0]\n",
            " [1.0 0.0 1.0 0.0 82.0 'yes' 'yes' 73.0]\n",
            " [1.0 0.0 1.0 0.0 86.0 'yes' 'yes' 71.0]\n",
            " [1.0 0.0 1.0 0.0 90.0 'yes' 'yes' 67.0]\n",
            " [1.0 0.0 1.0 0.0 84.0 'yes' 'yes' 75.0]\n",
            " [1.0 0.0 1.0 0.0 86.0 'no' 'yes' 76.0]\n",
            " [0.0 1.0 0.0 0.0 61.0 'no' 'yes' 90.0]\n",
            " [1.0 0.0 1.0 0.0 94.0 'yes' 'yes' 64.0]\n",
            " [1.0 0.0 1.0 0.0 81.0 'yes' 'yes' 75.0]\n",
            " [1.0 0.0 1.0 0.0 76.0 'yes' 'yes' 80.0]]\n",
            "['No' 'No' 'No' 'No' 'No' 'No' 'No' 'No' 'Yes' 'No' 'No' 'No' 'No' 'No'\n",
            " 'No' 'No' 'No' 'No' 'No' 'No' 'Yes' 'No' 'No' 'No' 'No' 'No' 'No' 'No'\n",
            " 'No' 'No' 'No' 'Yes' 'No' 'No' 'No' 'No' 'No' 'Yes' 'Yes' 'No' 'Yes'\n",
            " 'Yes' 'Yes' 'Yes' 'Yes' 'Yes' 'Yes' 'Yes' 'Yes' 'Yes' 'Yes' 'Yes' 'Yes'\n",
            " 'No' 'Yes' 'Yes' 'Yes' 'Yes' 'Yes' 'Yes' 'No' 'Yes' 'Yes' 'Yes' 'Yes'\n",
            " 'Yes' 'No' 'Yes' 'Yes' 'Yes']\n"
          ]
        }
      ]
    },
    {
      "cell_type": "markdown",
      "source": [
        "encoding dependent variable"
      ],
      "metadata": {
        "id": "UG9Vt6lgfGIv"
      }
    },
    {
      "cell_type": "code",
      "source": [
        "from sklearn.preprocessing import LabelEncoder\n",
        "le =  LabelEncoder()\n",
        "Y = le.fit_transform(Y)\n",
        "print(Y)"
      ],
      "metadata": {
        "colab": {
          "base_uri": "https://localhost:8080/"
        },
        "id": "hn2EvWzrfK-O",
        "outputId": "f9275999-e52d-4263-cbb5-93a163003eb8"
      },
      "execution_count": 24,
      "outputs": [
        {
          "output_type": "stream",
          "name": "stdout",
          "text": [
            "[0 0 0 0 0 0 0 0 1 0 0 0 0 0 0 0 0 0 0 0 1 0 0 0 0 0 0 0 0 0 0 1 0 0 0 0 0\n",
            " 1 1 0 1 1 1 1 1 1 1 1 1 1 1 1 1 0 1 1 1 1 1 1 0 1 1 1 1 1 0 1 1 1]\n"
          ]
        }
      ]
    },
    {
      "cell_type": "markdown",
      "source": [
        "splitting data into test set and traning set\n"
      ],
      "metadata": {
        "id": "TViopw2Nonz2"
      }
    },
    {
      "cell_type": "code",
      "source": [
        "from sklearn.model_selection import train_test_split\n",
        "X_train, X_test, Y_train,Y_test = train_test_split(X,Y, test_size=0.2, random_state=42)\n"
      ],
      "metadata": {
        "id": "w4bCziH6ouae"
      },
      "execution_count": 29,
      "outputs": []
    },
    {
      "cell_type": "code",
      "source": [
        "print(X_train)\n",
        "print(X_test)\n"
      ],
      "metadata": {
        "colab": {
          "base_uri": "https://localhost:8080/"
        },
        "id": "zke77Qhjptu_",
        "outputId": "5d70faac-7018-467f-e5bc-0ed7df9deec2"
      },
      "execution_count": 30,
      "outputs": [
        {
          "output_type": "stream",
          "name": "stdout",
          "text": [
            "[[1.0 0.0 1.0 0.0 86.0 'yes' 'yes' 71.0]\n",
            " [0.0 1.0 0.0 0.0 35.0 'no' 'yes' 92.0]\n",
            " [1.0 0.0 1.0 0.0 75.0 'no' 'yes' 72.0]\n",
            " [1.0 0.0 1.0 0.0 42.0 'no' 'no' 92.0]\n",
            " [1.0 0.0 1.0 0.0 74.0 'yes' 'yes' 75.0]\n",
            " [1.0 0.0 1.0 0.0 62.0 'yes' 'yes' 68.0]\n",
            " [0.0 1.0 0.0 0.0 24.0 'no' 'no' 92.0]\n",
            " [0.0 1.0 0.0 0.0 48.0 'no' 'yes' 93.0]\n",
            " [1.0 0.0 1.0 0.0 58.0 'no' 'no' 70.0]\n",
            " [0.0 1.0 0.0 0.0 45.130434782608695 'yes' 'no' 90.0]\n",
            " [0.0 1.0 0.0 0.0 15.0 'no' 'no' 92.0]\n",
            " [1.0 0.0 0.0 1.0 70.0 'no' 'yes' 88.0]\n",
            " [1.0 0.0 1.0 0.0 52.0 'yes' 'yes' 80.0]\n",
            " [1.0 0.0 1.0 0.0 60.0 'yes' 'yes' 68.0]\n",
            " [1.0 0.0 1.0 0.0 54.0 'yes' 'yes' 70.0]\n",
            " [1.0 0.0 0.0 1.0 29.0 'no' 'no' 93.0]\n",
            " [1.0 0.0 1.0 0.0 78.0 'yes' 'yes' 71.0]\n",
            " [1.0 0.0 1.0 0.0 36.0 'yes' 'no' 90.0]\n",
            " [0.0 1.0 0.0 0.0 30.0 'yes' 'no' 86.0]\n",
            " [1.0 0.0 1.0 0.0 50.0 'yes' 'yes' 77.0]\n",
            " [1.0 0.0 0.0 1.0 18.0 'no' 'no' 93.0]\n",
            " [1.0 0.0 1.0 0.0 69.0 'no' 'yes' 53.0]\n",
            " [1.0 0.0 0.0 1.0 10.0 'no' 'no' 97.0]\n",
            " [1.0 0.0 1.0 0.0 26.0 'no' 'no' 94.0]\n",
            " [0.0 1.0 0.0 0.0 18.0 'no' 'no' 66.0]\n",
            " [1.0 0.0 1.0 0.0 62.0 'yes' 'yes' 69.0]\n",
            " [0.0 1.0 0.0 0.0 13.0 'no' 'no' 93.0]\n",
            " [1.0 0.0 1.0 0.0 40.0 'no' 'no' 92.0]\n",
            " [1.0 0.0 1.0 0.0 84.0 'yes' 'yes' 75.0]\n",
            " [1.0 0.0 1.0 0.0 76.0 'yes' 'yes' 80.0]\n",
            " [1.0 0.0 1.0 0.0 81.0 'yes' 'yes' 75.0]\n",
            " [0.0 1.0 0.0 0.0 25.0 'no' 'no' 93.0]\n",
            " [0.0 1.0 0.0 0.0 32.0 'no' 'yes' 84.0]\n",
            " [1.0 0.0 1.0 0.0 56.0 'yes' 'yes' 77.0]\n",
            " [0.0 1.0 0.0 0.0 35.0 'no' 'no' 89.0]\n",
            " [1.0 0.0 1.0 0.0 63.0 'yes' 'yes' 66.0]\n",
            " [1.0 0.0 0.0 1.0 28.0 'no' 'no' 89.0]\n",
            " [1.0 0.0 1.0 0.0 56.0 'yes' 'no' 76.0]\n",
            " [1.0 0.0 1.0 0.0 90.0 'yes' 'yes' 67.0]\n",
            " [1.0 0.0 0.0 1.0 17.0 'no' 'no' 93.0]\n",
            " [0.0 1.0 0.0 0.0 40.0 'no' 'yes' 90.0]\n",
            " [0.0 1.0 0.0 0.0 61.0 'no' 'yes' 90.0]\n",
            " [1.0 0.0 1.0 0.0 82.0 'yes' 'yes' 73.0]\n",
            " [0.0 1.0 0.0 0.0 49.0 'no' 'no' 80.0]\n",
            " [0.0 1.0 0.0 0.0 32.0 'no' 'no' 89.0]\n",
            " [1.0 0.0 1.0 0.0 59.0 'no' 'yes' 69.0]\n",
            " [1.0 0.0 1.0 0.0 86.0 'no' 'yes' 76.0]\n",
            " [1.0 0.0 0.0 1.0 12.0 'no' 'no' 97.0]\n",
            " [1.0 0.0 1.0 0.0 61.0 'yes' 'yes' 76.0]\n",
            " [1.0 0.0 0.0 1.0 19.0 'no' 'no' 89.0]\n",
            " [1.0 0.0 0.0 1.0 15.0 'no' 'no' 94.0]\n",
            " [1.0 0.0 0.0 1.0 26.0 'no' 'no' 82.07246376811594]\n",
            " [0.0 1.0 0.0 0.0 30.0 'no' 'no' 62.0]\n",
            " [1.0 0.0 1.0 0.0 80.0 'no' 'yes' 92.0]\n",
            " [1.0 0.0 0.0 1.0 20.0 'no' 'no' 92.0]\n",
            " [1.0 0.0 1.0 0.0 64.0 'yes' 'yes' 73.0]]\n",
            "[[1.0 0.0 0.0 1.0 25.0 'no' 'yes' 86.0]\n",
            " [1.0 0.0 0.0 1.0 10.0 'no' 'no' 97.0]\n",
            " [1.0 0.0 1.0 0.0 68.0 'yes' 'no' 67.0]\n",
            " [0.0 1.0 0.0 0.0 13.0 'no' 'no' 94.0]\n",
            " [1.0 0.0 1.0 0.0 59.0 'yes' 'no' 68.0]\n",
            " [1.0 0.0 0.0 1.0 28.0 'no' 'no' 99.0]\n",
            " [1.0 0.0 0.0 1.0 20.0 'no' 'no' 93.0]\n",
            " [1.0 0.0 1.0 0.0 46.0 'yes' 'no' 91.0]\n",
            " [1.0 0.0 1.0 0.0 53.0 'yes' 'no' 55.0]\n",
            " [1.0 0.0 0.0 1.0 16.0 'no' 'no' 92.0]\n",
            " [1.0 0.0 1.0 0.0 38.0 'no' 'no' 75.0]\n",
            " [1.0 0.0 0.0 1.0 19.0 'no' 'no' 92.0]\n",
            " [1.0 0.0 1.0 0.0 94.0 'yes' 'yes' 64.0]\n",
            " [0.0 1.0 0.0 0.0 12.0 'no' 'no' 97.0]]\n"
          ]
        }
      ]
    },
    {
      "cell_type": "code",
      "source": [
        "print(Y_train)\n",
        "print(Y_test)"
      ],
      "metadata": {
        "colab": {
          "base_uri": "https://localhost:8080/"
        },
        "id": "7EsMWZNepzdQ",
        "outputId": "725f366a-a21d-4e86-ae35-a2f30958d838"
      },
      "execution_count": 31,
      "outputs": [
        {
          "output_type": "stream",
          "name": "stdout",
          "text": [
            "[1 0 1 0 1 1 0 0 1 0 0 0 1 1 1 0 1 0 0 1 0 1 0 0 1 1 0 0 1 1 1 0 0 1 0 1 0\n",
            " 1 1 0 0 0 1 1 0 1 1 0 1 0 0 0 1 0 0 1]\n",
            "[0 0 1 0 1 0 0 0 1 0 1 0 1 0]\n"
          ]
        }
      ]
    }
  ]
}