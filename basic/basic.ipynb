{
  "nbformat": 4,
  "nbformat_minor": 0,
  "metadata": {
    "colab": {
      "provenance": []
    },
    "kernelspec": {
      "name": "python3",
      "display_name": "Python 3"
    },
    "language_info": {
      "name": "python"
    }
  },
  "cells": [
    {
      "cell_type": "markdown",
      "source": [
        "system specification"
      ],
      "metadata": {
        "id": "0Y4etZYCZ50m"
      }
    },
    {
      "cell_type": "code",
      "source": [
        "!cat /proc/cpuinfo"
      ],
      "metadata": {
        "colab": {
          "base_uri": "https://localhost:8080/"
        },
        "id": "gdqAj0QUZ9G7",
        "outputId": "e1309e2e-ef27-449f-8a13-2e4134ba1770"
      },
      "execution_count": null,
      "outputs": [
        {
          "output_type": "stream",
          "name": "stdout",
          "text": [
            "processor\t: 0\n",
            "vendor_id\t: GenuineIntel\n",
            "cpu family\t: 6\n",
            "model\t\t: 79\n",
            "model name\t: Intel(R) Xeon(R) CPU @ 2.20GHz\n",
            "stepping\t: 0\n",
            "microcode\t: 0xffffffff\n",
            "cpu MHz\t\t: 2199.998\n",
            "cache size\t: 56320 KB\n",
            "physical id\t: 0\n",
            "siblings\t: 2\n",
            "core id\t\t: 0\n",
            "cpu cores\t: 1\n",
            "apicid\t\t: 0\n",
            "initial apicid\t: 0\n",
            "fpu\t\t: yes\n",
            "fpu_exception\t: yes\n",
            "cpuid level\t: 13\n",
            "wp\t\t: yes\n",
            "flags\t\t: fpu vme de pse tsc msr pae mce cx8 apic sep mtrr pge mca cmov pat pse36 clflush mmx fxsr sse sse2 ss ht syscall nx pdpe1gb rdtscp lm constant_tsc rep_good nopl xtopology nonstop_tsc cpuid tsc_known_freq pni pclmulqdq ssse3 fma cx16 pcid sse4_1 sse4_2 x2apic movbe popcnt aes xsave avx f16c rdrand hypervisor lahf_lm abm 3dnowprefetch invpcid_single ssbd ibrs ibpb stibp fsgsbase tsc_adjust bmi1 hle avx2 smep bmi2 erms invpcid rtm rdseed adx smap xsaveopt arat md_clear arch_capabilities\n",
            "bugs\t\t: cpu_meltdown spectre_v1 spectre_v2 spec_store_bypass l1tf mds swapgs taa mmio_stale_data retbleed\n",
            "bogomips\t: 4399.99\n",
            "clflush size\t: 64\n",
            "cache_alignment\t: 64\n",
            "address sizes\t: 46 bits physical, 48 bits virtual\n",
            "power management:\n",
            "\n",
            "processor\t: 1\n",
            "vendor_id\t: GenuineIntel\n",
            "cpu family\t: 6\n",
            "model\t\t: 79\n",
            "model name\t: Intel(R) Xeon(R) CPU @ 2.20GHz\n",
            "stepping\t: 0\n",
            "microcode\t: 0xffffffff\n",
            "cpu MHz\t\t: 2199.998\n",
            "cache size\t: 56320 KB\n",
            "physical id\t: 0\n",
            "siblings\t: 2\n",
            "core id\t\t: 0\n",
            "cpu cores\t: 1\n",
            "apicid\t\t: 1\n",
            "initial apicid\t: 1\n",
            "fpu\t\t: yes\n",
            "fpu_exception\t: yes\n",
            "cpuid level\t: 13\n",
            "wp\t\t: yes\n",
            "flags\t\t: fpu vme de pse tsc msr pae mce cx8 apic sep mtrr pge mca cmov pat pse36 clflush mmx fxsr sse sse2 ss ht syscall nx pdpe1gb rdtscp lm constant_tsc rep_good nopl xtopology nonstop_tsc cpuid tsc_known_freq pni pclmulqdq ssse3 fma cx16 pcid sse4_1 sse4_2 x2apic movbe popcnt aes xsave avx f16c rdrand hypervisor lahf_lm abm 3dnowprefetch invpcid_single ssbd ibrs ibpb stibp fsgsbase tsc_adjust bmi1 hle avx2 smep bmi2 erms invpcid rtm rdseed adx smap xsaveopt arat md_clear arch_capabilities\n",
            "bugs\t\t: cpu_meltdown spectre_v1 spectre_v2 spec_store_bypass l1tf mds swapgs taa mmio_stale_data retbleed\n",
            "bogomips\t: 4399.99\n",
            "clflush size\t: 64\n",
            "cache_alignment\t: 64\n",
            "address sizes\t: 46 bits physical, 48 bits virtual\n",
            "power management:\n",
            "\n"
          ]
        }
      ]
    },
    {
      "cell_type": "code",
      "source": [
        "!cat /proc/meminfo"
      ],
      "metadata": {
        "colab": {
          "base_uri": "https://localhost:8080/"
        },
        "id": "CfuIQqUCaHiV",
        "outputId": "888263d7-2aca-42ab-9e7f-36cd383b5b49"
      },
      "execution_count": null,
      "outputs": [
        {
          "output_type": "stream",
          "name": "stdout",
          "text": [
            "MemTotal:       13294252 kB\n",
            "MemFree:         9373036 kB\n",
            "MemAvailable:   12349564 kB\n",
            "Buffers:           69464 kB\n",
            "Cached:          3080364 kB\n",
            "SwapCached:            0 kB\n",
            "Active:           852296 kB\n",
            "Inactive:        2787580 kB\n",
            "Active(anon):       1016 kB\n",
            "Inactive(anon):   490300 kB\n",
            "Active(file):     851280 kB\n",
            "Inactive(file):  2297280 kB\n",
            "Unevictable:           0 kB\n",
            "Mlocked:               0 kB\n",
            "SwapTotal:             0 kB\n",
            "SwapFree:              0 kB\n",
            "Dirty:              2556 kB\n",
            "Writeback:             0 kB\n",
            "AnonPages:        490056 kB\n",
            "Mapped:           286156 kB\n",
            "Shmem:              1260 kB\n",
            "KReclaimable:     137844 kB\n",
            "Slab:             174336 kB\n",
            "SReclaimable:     137844 kB\n",
            "SUnreclaim:        36492 kB\n",
            "KernelStack:        4288 kB\n",
            "PageTables:         7988 kB\n",
            "NFS_Unstable:          0 kB\n",
            "Bounce:                0 kB\n",
            "WritebackTmp:          0 kB\n",
            "CommitLimit:     6647124 kB\n",
            "Committed_AS:    1965728 kB\n",
            "VmallocTotal:   34359738367 kB\n",
            "VmallocUsed:        9236 kB\n",
            "VmallocChunk:          0 kB\n",
            "Percpu:             1296 kB\n",
            "HardwareCorrupted:     0 kB\n",
            "AnonHugePages:         0 kB\n",
            "ShmemHugePages:        0 kB\n",
            "ShmemPmdMapped:        0 kB\n",
            "FileHugePages:         0 kB\n",
            "FilePmdMapped:         0 kB\n",
            "CmaTotal:              0 kB\n",
            "CmaFree:               0 kB\n",
            "HugePages_Total:       0\n",
            "HugePages_Free:        0\n",
            "HugePages_Rsvd:        0\n",
            "HugePages_Surp:        0\n",
            "Hugepagesize:       2048 kB\n",
            "Hugetlb:               0 kB\n",
            "DirectMap4k:       76600 kB\n",
            "DirectMap2M:     3065856 kB\n",
            "DirectMap1G:    12582912 kB\n"
          ]
        }
      ]
    },
    {
      "cell_type": "markdown",
      "source": [
        "importing"
      ],
      "metadata": {
        "id": "DbDP57CSavvc"
      }
    },
    {
      "cell_type": "code",
      "source": [
        "import pandas as pd\n",
        "import numpy as np\n",
        "import matplotlib.pyplot as plt"
      ],
      "metadata": {
        "id": "OzCKCEnCaxPt"
      },
      "execution_count": null,
      "outputs": []
    },
    {
      "cell_type": "code",
      "source": [
        "hero1,hero2,hero3 = \"pratik\" ,\"kunal\",\"abhinav\"\n",
        "print(hero1)\n",
        "print(hero2)\n",
        "print(hero3)"
      ],
      "metadata": {
        "colab": {
          "base_uri": "https://localhost:8080/"
        },
        "id": "K9bLjqPXb2MM",
        "outputId": "20f6708c-a218-4b3c-826d-e86ac6f7a899"
      },
      "execution_count": null,
      "outputs": [
        {
          "output_type": "stream",
          "name": "stdout",
          "text": [
            "pratik\n",
            "kunal\n",
            "abhinav\n"
          ]
        }
      ]
    },
    {
      "cell_type": "code",
      "source": [
        "x = y = z = 23\n",
        "print(x)\n",
        "print(y)\n",
        "print(z)\n"
      ],
      "metadata": {
        "colab": {
          "base_uri": "https://localhost:8080/"
        },
        "id": "gb63R51jg9mi",
        "outputId": "4939da12-b4b0-4a69-ebb3-199d36af2cf2"
      },
      "execution_count": null,
      "outputs": [
        {
          "output_type": "stream",
          "name": "stdout",
          "text": [
            "23\n",
            "23\n",
            "23\n"
          ]
        }
      ]
    },
    {
      "cell_type": "markdown",
      "source": [
        "input function"
      ],
      "metadata": {
        "id": "1MTQ9qtZhpab"
      }
    },
    {
      "cell_type": "code",
      "source": [
        "num1 = int(input(\"enter the 1 num : \"))\n",
        "num2 = int(input(\"enter the 2 num : \"))\n",
        "num = num1 + num2\n",
        "print(num)"
      ],
      "metadata": {
        "colab": {
          "base_uri": "https://localhost:8080/"
        },
        "id": "962TLB3dhsZ2",
        "outputId": "7b199850-90fb-4554-f96d-23468cc1f83c"
      },
      "execution_count": null,
      "outputs": [
        {
          "output_type": "stream",
          "name": "stdout",
          "text": [
            "enter the 1 num : 23\n",
            "enter the 2 num : 23\n",
            "46\n"
          ]
        }
      ]
    },
    {
      "cell_type": "markdown",
      "source": [
        "changing the data type"
      ],
      "metadata": {
        "id": "cFdw4ArFjYXg"
      }
    },
    {
      "cell_type": "code",
      "source": [
        "num = 23\n",
        "print(float(num))"
      ],
      "metadata": {
        "colab": {
          "base_uri": "https://localhost:8080/"
        },
        "id": "O9G3xmaujb_r",
        "outputId": "22de543e-2034-4c6b-bc99-017c85b921fc"
      },
      "execution_count": null,
      "outputs": [
        {
          "output_type": "stream",
          "name": "stdout",
          "text": [
            "23.0\n"
          ]
        }
      ]
    },
    {
      "cell_type": "code",
      "source": [
        "print(\"hello \"*5)"
      ],
      "metadata": {
        "colab": {
          "base_uri": "https://localhost:8080/"
        },
        "id": "tnG4xUHVtpLV",
        "outputId": "c72ed40a-6f58-47de-9d67-6aacdf8ce715"
      },
      "execution_count": null,
      "outputs": [
        {
          "output_type": "stream",
          "name": "stdout",
          "text": [
            "hello hello hello hello hello \n"
          ]
        }
      ]
    },
    {
      "cell_type": "code",
      "source": [
        "str = \"pratik\"\n",
        "print(str[0:7])"
      ],
      "metadata": {
        "colab": {
          "base_uri": "https://localhost:8080/"
        },
        "id": "v0O5SqMAuMg0",
        "outputId": "b8375dac-b765-42f4-abff-177b98221481"
      },
      "execution_count": null,
      "outputs": [
        {
          "output_type": "stream",
          "name": "stdout",
          "text": [
            "pratik\n"
          ]
        }
      ]
    },
    {
      "cell_type": "code",
      "source": [
        "str = \"aptitudeofprogramming\"\n",
        "print(str[0:21:2])"
      ],
      "metadata": {
        "colab": {
          "base_uri": "https://localhost:8080/"
        },
        "id": "-MhsI0MvuXoT",
        "outputId": "b4aca752-9c4d-4f1d-e805-f37da1dc4e30"
      },
      "execution_count": null,
      "outputs": [
        {
          "output_type": "stream",
          "name": "stdout",
          "text": [
            "attdopormig\n"
          ]
        }
      ]
    },
    {
      "cell_type": "code",
      "source": [
        "a = \"machine\"\n",
        "b = \"learning\"\n",
        "print(a + \" \" + b)"
      ],
      "metadata": {
        "colab": {
          "base_uri": "https://localhost:8080/"
        },
        "id": "RAFuKFK-vAJC",
        "outputId": "425738d5-abde-4fcf-cc5e-72634eb7699e"
      },
      "execution_count": null,
      "outputs": [
        {
          "output_type": "stream",
          "name": "stdout",
          "text": [
            "machine learning\n"
          ]
        }
      ]
    },
    {
      "cell_type": "markdown",
      "source": [
        "list in python\n"
      ],
      "metadata": {
        "id": "ULCoRuZPvaYD"
      }
    },
    {
      "cell_type": "code",
      "source": [
        "listo = [1.0,2,3,4,5]\n",
        "print(listo)\n",
        "type(listo)"
      ],
      "metadata": {
        "colab": {
          "base_uri": "https://localhost:8080/"
        },
        "id": "kV6UPEL0vb9B",
        "outputId": "dec5583f-d89f-4074-be43-2066cc53d4be"
      },
      "execution_count": null,
      "outputs": [
        {
          "output_type": "stream",
          "name": "stdout",
          "text": [
            "[1.0, 2, 3, 4, 5]\n"
          ]
        },
        {
          "output_type": "execute_result",
          "data": {
            "text/plain": [
              "list"
            ]
          },
          "metadata": {},
          "execution_count": 28
        }
      ]
    },
    {
      "cell_type": "code",
      "source": [
        "#list can have multiple datatype\n",
        "list = [1,3,5.3,\"boston\"]\n",
        "print(list)"
      ],
      "metadata": {
        "colab": {
          "base_uri": "https://localhost:8080/"
        },
        "id": "1Xf78-4KvnTA",
        "outputId": "672a2270-bbbc-47cc-d4fa-d37f9346f105"
      },
      "execution_count": null,
      "outputs": [
        {
          "output_type": "stream",
          "name": "stdout",
          "text": [
            "[1, 3, 5.3, 'boston']\n"
          ]
        }
      ]
    },
    {
      "cell_type": "markdown",
      "source": [
        "add element to a list\n"
      ],
      "metadata": {
        "id": "ncZGN3hQvwyw"
      }
    },
    {
      "cell_type": "code",
      "source": [
        "list = [1,3,5.3,\"boston\"]\n",
        "list.append(4)\n",
        "print(list)"
      ],
      "metadata": {
        "colab": {
          "base_uri": "https://localhost:8080/"
        },
        "id": "cgI8a9NYv0Y0",
        "outputId": "4336737b-6a43-4084-8312-e1b21887b43d"
      },
      "execution_count": null,
      "outputs": [
        {
          "output_type": "stream",
          "name": "stdout",
          "text": [
            "[1, 3, 5.3, 'boston', 4]\n"
          ]
        }
      ]
    },
    {
      "cell_type": "code",
      "source": [
        "#print element\n",
        "print(list[4])\n"
      ],
      "metadata": {
        "colab": {
          "base_uri": "https://localhost:8080/"
        },
        "id": "mZ5AwQZfv_wt",
        "outputId": "69975f14-32dc-4628-d0ec-623765971859"
      },
      "execution_count": null,
      "outputs": [
        {
          "output_type": "stream",
          "name": "stdout",
          "text": [
            "4\n"
          ]
        }
      ]
    },
    {
      "cell_type": "code",
      "source": [
        "print(len(list))"
      ],
      "metadata": {
        "colab": {
          "base_uri": "https://localhost:8080/"
        },
        "id": "rfEwPQbMwNjO",
        "outputId": "f9cef0b2-1e09-4c51-d8f1-6360cfc98361"
      },
      "execution_count": null,
      "outputs": [
        {
          "output_type": "stream",
          "name": "stdout",
          "text": [
            "5\n"
          ]
        }
      ]
    },
    {
      "cell_type": "code",
      "source": [
        "#initiating empty list\n",
        "list2 = []\n",
        "print(list2)\n",
        "list2.append(3)\n",
        "print(list2)\n"
      ],
      "metadata": {
        "colab": {
          "base_uri": "https://localhost:8080/"
        },
        "id": "WbpaZrDPwUXo",
        "outputId": "054ae8b9-52ee-45b1-825a-6b11376895e7"
      },
      "execution_count": null,
      "outputs": [
        {
          "output_type": "stream",
          "name": "stdout",
          "text": [
            "[]\n",
            "[3]\n"
          ]
        }
      ]
    },
    {
      "cell_type": "code",
      "source": [
        "#delete a item in a list\n",
        "list = [1,3,5.3,\"boston\"]\n",
        "print(list)\n",
        "del list[2]\n",
        "print(list)"
      ],
      "metadata": {
        "colab": {
          "base_uri": "https://localhost:8080/"
        },
        "id": "RIPUuYbYwgQD",
        "outputId": "463e5557-682c-4eb8-e9c2-aba43a953e74"
      },
      "execution_count": null,
      "outputs": [
        {
          "output_type": "stream",
          "name": "stdout",
          "text": [
            "[1, 3, 5.3, 'boston']\n",
            "[1, 3, 'boston']\n"
          ]
        }
      ]
    },
    {
      "cell_type": "code",
      "source": [
        "#join the two list\n",
        "list3 =  list + list2\n",
        "print(list3)"
      ],
      "metadata": {
        "colab": {
          "base_uri": "https://localhost:8080/"
        },
        "id": "mfpdwTB3wt2X",
        "outputId": "7bbe7ba1-6527-4ca4-acce-fef134fe0d78"
      },
      "execution_count": null,
      "outputs": [
        {
          "output_type": "stream",
          "name": "stdout",
          "text": [
            "[1, 3, 'boston', 3]\n"
          ]
        }
      ]
    },
    {
      "cell_type": "markdown",
      "source": [
        "tuple"
      ],
      "metadata": {
        "id": "hBF9eyZBx5tX"
      }
    },
    {
      "cell_type": "code",
      "source": [
        "tuple1 = (2,3,4,5)\n",
        "print(tuple1)\n",
        "type(tuple1)"
      ],
      "metadata": {
        "colab": {
          "base_uri": "https://localhost:8080/"
        },
        "id": "9HdWGNt0x7zn",
        "outputId": "ec353e81-0a22-403f-cde5-82ba69bd3aa1"
      },
      "execution_count": null,
      "outputs": [
        {
          "output_type": "stream",
          "name": "stdout",
          "text": [
            "(2, 3, 4, 5)\n"
          ]
        },
        {
          "output_type": "execute_result",
          "data": {
            "text/plain": [
              "tuple"
            ]
          },
          "metadata": {},
          "execution_count": 38
        }
      ]
    },
    {
      "cell_type": "code",
      "source": [
        "#converting a list into tuple\n",
        "list = [3,4,5,6]\n",
        "print(list)\n",
        "tuple =  tuple(list)\n",
        "print(tuple)"
      ],
      "metadata": {
        "colab": {
          "base_uri": "https://localhost:8080/"
        },
        "id": "Q_MYkfKIyImC",
        "outputId": "bccff067-e813-4dcc-f067-83e341fbe72d"
      },
      "execution_count": null,
      "outputs": [
        {
          "output_type": "stream",
          "name": "stdout",
          "text": [
            "[3, 4, 5, 6]\n",
            "(3, 4, 5, 6)\n"
          ]
        }
      ]
    },
    {
      "cell_type": "markdown",
      "source": [
        "tuple are immutable ->unchanged"
      ],
      "metadata": {
        "id": "M0atcaCOywv6"
      }
    },
    {
      "cell_type": "code",
      "source": [
        "tuple.append(6)"
      ],
      "metadata": {
        "colab": {
          "base_uri": "https://localhost:8080/",
          "height": 175
        },
        "id": "soSAg6Hgy4vN",
        "outputId": "cc7ce63f-5d3b-43c1-c3e5-4c769546f26b"
      },
      "execution_count": null,
      "outputs": [
        {
          "output_type": "error",
          "ename": "AttributeError",
          "evalue": "ignored",
          "traceback": [
            "\u001b[0;31m---------------------------------------------------------------------------\u001b[0m",
            "\u001b[0;31mAttributeError\u001b[0m                            Traceback (most recent call last)",
            "\u001b[0;32m<ipython-input-40-eca45543f426>\u001b[0m in \u001b[0;36m<cell line: 1>\u001b[0;34m()\u001b[0m\n\u001b[0;32m----> 1\u001b[0;31m \u001b[0mtuple\u001b[0m\u001b[0;34m.\u001b[0m\u001b[0mappend\u001b[0m\u001b[0;34m(\u001b[0m\u001b[0;36m6\u001b[0m\u001b[0;34m)\u001b[0m\u001b[0;34m\u001b[0m\u001b[0;34m\u001b[0m\u001b[0m\n\u001b[0m",
            "\u001b[0;31mAttributeError\u001b[0m: 'tuple' object has no attribute 'append'"
          ]
        }
      ]
    },
    {
      "cell_type": "code",
      "source": [
        "print(len(tuple))"
      ],
      "metadata": {
        "colab": {
          "base_uri": "https://localhost:8080/"
        },
        "id": "MZ2FkpbEy-pV",
        "outputId": "c699f2a9-e210-4d88-ee77-f3d744c7bbf7"
      },
      "execution_count": null,
      "outputs": [
        {
          "output_type": "stream",
          "name": "stdout",
          "text": [
            "4\n"
          ]
        }
      ]
    },
    {
      "cell_type": "markdown",
      "source": [
        "set\n"
      ],
      "metadata": {
        "id": "L8C4llS8zDDB"
      }
    },
    {
      "cell_type": "code",
      "source": [
        "#set in curly brackets\n",
        "myset = {1,2,3,4,5}\n",
        "print(myset)\n",
        "type(myset)"
      ],
      "metadata": {
        "colab": {
          "base_uri": "https://localhost:8080/"
        },
        "id": "-qEVqhWAzEEC",
        "outputId": "66d625c7-cdc3-444a-eb34-6edf283f5f71"
      },
      "execution_count": null,
      "outputs": [
        {
          "output_type": "stream",
          "name": "stdout",
          "text": [
            "{1, 2, 3, 4, 5}\n"
          ]
        },
        {
          "output_type": "execute_result",
          "data": {
            "text/plain": [
              "set"
            ]
          },
          "metadata": {},
          "execution_count": 42
        }
      ]
    },
    {
      "cell_type": "code",
      "source": [
        "print(myset[0])\n",
        "#it can't access the element"
      ],
      "metadata": {
        "colab": {
          "base_uri": "https://localhost:8080/",
          "height": 175
        },
        "id": "m2FrVbmY0cbZ",
        "outputId": "46171265-f68f-4d82-9ed7-b22103103697"
      },
      "execution_count": null,
      "outputs": [
        {
          "output_type": "error",
          "ename": "TypeError",
          "evalue": "ignored",
          "traceback": [
            "\u001b[0;31m---------------------------------------------------------------------------\u001b[0m",
            "\u001b[0;31mTypeError\u001b[0m                                 Traceback (most recent call last)",
            "\u001b[0;32m<ipython-input-43-7d1724384d42>\u001b[0m in \u001b[0;36m<cell line: 1>\u001b[0;34m()\u001b[0m\n\u001b[0;32m----> 1\u001b[0;31m \u001b[0mprint\u001b[0m\u001b[0;34m(\u001b[0m\u001b[0mmyset\u001b[0m\u001b[0;34m[\u001b[0m\u001b[0;36m0\u001b[0m\u001b[0;34m]\u001b[0m\u001b[0;34m)\u001b[0m\u001b[0;34m\u001b[0m\u001b[0;34m\u001b[0m\u001b[0m\n\u001b[0m",
            "\u001b[0;31mTypeError\u001b[0m: 'set' object is not subscriptable"
          ]
        }
      ]
    },
    {
      "cell_type": "code",
      "source": [
        "#convert a lsit into set\n",
        "list3 = [2,34,2,342,2]\n",
        "x = set(list3)\n",
        "print(x)\n",
        "#set doesn't allow duplicate value"
      ],
      "metadata": {
        "colab": {
          "base_uri": "https://localhost:8080/"
        },
        "id": "jh6B1PVa0jy6",
        "outputId": "4610fc5c-1b3e-475c-8a9f-848a27601aec"
      },
      "execution_count": null,
      "outputs": [
        {
          "output_type": "stream",
          "name": "stdout",
          "text": [
            "{2, 34, 342}\n"
          ]
        }
      ]
    },
    {
      "cell_type": "markdown",
      "source": [
        "dictionary\n"
      ],
      "metadata": {
        "id": "YVTRbuvK04TA"
      }
    },
    {
      "cell_type": "code",
      "source": [
        "mydictionary = {'name' : 'pratik' , 'age' : 30 , 'country' : 'india'}\n",
        "print(mydictionary)\n",
        "type(mydictionary)"
      ],
      "metadata": {
        "colab": {
          "base_uri": "https://localhost:8080/"
        },
        "id": "4gwwCl-H06LQ",
        "outputId": "a14ceffa-a46e-48b1-c91a-bc67002e6c2a"
      },
      "execution_count": null,
      "outputs": [
        {
          "output_type": "stream",
          "name": "stdout",
          "text": [
            "{'name': 'pratik', 'age': 30, 'country': 'india'}\n"
          ]
        },
        {
          "output_type": "execute_result",
          "data": {
            "text/plain": [
              "dict"
            ]
          },
          "metadata": {},
          "execution_count": 49
        }
      ]
    },
    {
      "cell_type": "code",
      "source": [
        "print(mydictionary['name'])\n",
        "print(mydictionary['age'])\n",
        "print(mydictionary['country'])\n",
        "#mydictionary doesn't allow duplicate value"
      ],
      "metadata": {
        "colab": {
          "base_uri": "https://localhost:8080/"
        },
        "id": "yeUu82ay1Par",
        "outputId": "e51eb886-7a66-40f1-e185-33a039f3db0a"
      },
      "execution_count": null,
      "outputs": [
        {
          "output_type": "stream",
          "name": "stdout",
          "text": [
            "pratik\n",
            "30\n",
            "india\n"
          ]
        }
      ]
    },
    {
      "cell_type": "markdown",
      "source": [
        "Operations in Python:"
      ],
      "metadata": {
        "id": "Ham3fT6Q1ozu"
      }
    },
    {
      "cell_type": "markdown",
      "source": [
        "1. Arithmetic Operators"
      ],
      "metadata": {
        "id": "oBVPra3b1t-e"
      }
    },
    {
      "cell_type": "code",
      "source": [
        "n = 20\n",
        "n1 = 10\n",
        "n2 =10\n",
        "n3 =5\n",
        "# + - * /\n",
        "sum = n+n1*n2/n3\n",
        "print(sum)"
      ],
      "metadata": {
        "colab": {
          "base_uri": "https://localhost:8080/"
        },
        "id": "oxhfwRLw1yQx",
        "outputId": "9c5c41af-6ae9-4986-ec0c-2e0d3e5876f4"
      },
      "execution_count": null,
      "outputs": [
        {
          "output_type": "stream",
          "name": "stdout",
          "text": [
            "40.0\n"
          ]
        }
      ]
    },
    {
      "cell_type": "code",
      "source": [
        "exponent = n**n1\n",
        "print(exponent)"
      ],
      "metadata": {
        "colab": {
          "base_uri": "https://localhost:8080/"
        },
        "id": "iipzaLk_2xvd",
        "outputId": "d2cfaaea-9276-43f5-ebb6-d9120a057784"
      },
      "execution_count": null,
      "outputs": [
        {
          "output_type": "stream",
          "name": "stdout",
          "text": [
            "10240000000000\n"
          ]
        }
      ]
    },
    {
      "cell_type": "markdown",
      "source": [
        "2, assignment operator"
      ],
      "metadata": {
        "id": "3r7Qmh2z3Bb7"
      }
    },
    {
      "cell_type": "code",
      "source": [
        "value = 20\n",
        "print(value)\n",
        "value+=20\n",
        "print(value)"
      ],
      "metadata": {
        "colab": {
          "base_uri": "https://localhost:8080/"
        },
        "id": "8MpAPukP3EWh",
        "outputId": "09894b6a-a01c-457b-c87e-f4e6b456d3ef"
      },
      "execution_count": null,
      "outputs": [
        {
          "output_type": "stream",
          "name": "stdout",
          "text": [
            "20\n",
            "40\n"
          ]
        }
      ]
    },
    {
      "cell_type": "markdown",
      "source": [
        "3. comparision opertor"
      ],
      "metadata": {
        "id": "F5fOVCTO3glQ"
      }
    },
    {
      "cell_type": "code",
      "source": [
        "a = 5\n",
        "b =10\n",
        "print(a==b)\n",
        "print(a!=b)\n",
        "print(a>b)\n",
        "print(a<b)\n",
        "print(a<=b)\n",
        "print(a>=b)"
      ],
      "metadata": {
        "colab": {
          "base_uri": "https://localhost:8080/"
        },
        "id": "DGVN7JHv3kEw",
        "outputId": "7ce040b9-1610-4acb-a4f5-9f2c143156f9"
      },
      "execution_count": null,
      "outputs": [
        {
          "output_type": "stream",
          "name": "stdout",
          "text": [
            "False\n",
            "True\n",
            "False\n",
            "True\n",
            "True\n",
            "False\n"
          ]
        }
      ]
    },
    {
      "cell_type": "markdown",
      "source": [
        "4. logical operator"
      ],
      "metadata": {
        "id": "Du3lrTw43xzZ"
      }
    },
    {
      "cell_type": "code",
      "source": [
        "a =10\n",
        "print(a>20 and a>5)"
      ],
      "metadata": {
        "colab": {
          "base_uri": "https://localhost:8080/"
        },
        "id": "CyLdr8LW31Id",
        "outputId": "e235b3df-c5b6-4ef3-b17d-b86fe19cd84a"
      },
      "execution_count": null,
      "outputs": [
        {
          "output_type": "stream",
          "name": "stdout",
          "text": [
            "False\n"
          ]
        }
      ]
    },
    {
      "cell_type": "code",
      "source": [
        "print(a>10 or a>5)"
      ],
      "metadata": {
        "colab": {
          "base_uri": "https://localhost:8080/"
        },
        "id": "vvU4-CFf38e_",
        "outputId": "ff98368d-ac28-48c3-834f-d84e9812e72c"
      },
      "execution_count": null,
      "outputs": [
        {
          "output_type": "stream",
          "name": "stdout",
          "text": [
            "True\n"
          ]
        }
      ]
    },
    {
      "cell_type": "code",
      "source": [
        "print(not(a>11 and a>5))"
      ],
      "metadata": {
        "colab": {
          "base_uri": "https://localhost:8080/"
        },
        "id": "1H9IzSpD4CZd",
        "outputId": "14d64862-b61c-4318-db9c-2602ca084646"
      },
      "execution_count": null,
      "outputs": [
        {
          "output_type": "stream",
          "name": "stdout",
          "text": [
            "True\n"
          ]
        }
      ]
    },
    {
      "cell_type": "markdown",
      "source": [
        "5. identity operator :"
      ],
      "metadata": {
        "id": "lzNwVcsL4NDB"
      }
    },
    {
      "cell_type": "code",
      "source": [
        "x = 10\n",
        "y =5\n",
        "print(x is y)"
      ],
      "metadata": {
        "colab": {
          "base_uri": "https://localhost:8080/"
        },
        "id": "x3JDRjD14QBQ",
        "outputId": "aec1cea9-d882-41b8-9b8c-90ee376d78fc"
      },
      "execution_count": null,
      "outputs": [
        {
          "output_type": "stream",
          "name": "stdout",
          "text": [
            "False\n"
          ]
        }
      ]
    },
    {
      "cell_type": "code",
      "source": [
        "x = 7\n",
        "y = 7\n",
        "print(x is y)"
      ],
      "metadata": {
        "colab": {
          "base_uri": "https://localhost:8080/"
        },
        "id": "1lv4xDCX4Xil",
        "outputId": "56150cdb-50fc-46b8-9315-8e705c9e4ae2"
      },
      "execution_count": null,
      "outputs": [
        {
          "output_type": "stream",
          "name": "stdout",
          "text": [
            "True\n"
          ]
        }
      ]
    },
    {
      "cell_type": "code",
      "source": [
        "x = 7\n",
        "y = 7\n",
        "print(x is not y)"
      ],
      "metadata": {
        "colab": {
          "base_uri": "https://localhost:8080/"
        },
        "id": "gifCGN1940hO",
        "outputId": "811951c2-9673-4e71-dd7f-1fc390409f2b"
      },
      "execution_count": null,
      "outputs": [
        {
          "output_type": "stream",
          "name": "stdout",
          "text": [
            "False\n"
          ]
        }
      ]
    },
    {
      "cell_type": "markdown",
      "source": [
        "6. membership operator"
      ],
      "metadata": {
        "id": "MWK1tCm25C91"
      }
    },
    {
      "cell_type": "code",
      "source": [
        "a = 5\n",
        "b = 10\n",
        "c = [1,2,3,4,5]\n",
        "print(a in c)\n",
        "print(b in c)"
      ],
      "metadata": {
        "colab": {
          "base_uri": "https://localhost:8080/"
        },
        "id": "zMAzQzDu42ya",
        "outputId": "1b7908b0-3817-410c-f758-8fefffcfda41"
      },
      "execution_count": null,
      "outputs": [
        {
          "output_type": "stream",
          "name": "stdout",
          "text": [
            "True\n",
            "False\n"
          ]
        }
      ]
    },
    {
      "cell_type": "code",
      "source": [
        "a = 5\n",
        "b = 10\n",
        "c = [1,2,3,4,5]\n",
        "print(a not in c)\n",
        "print(b not in c)"
      ],
      "metadata": {
        "colab": {
          "base_uri": "https://localhost:8080/"
        },
        "id": "N7IQOliT42-H",
        "outputId": "6620c172-a34f-4002-b20a-686096458a25"
      },
      "execution_count": null,
      "outputs": [
        {
          "output_type": "stream",
          "name": "stdout",
          "text": [
            "False\n",
            "True\n"
          ]
        }
      ]
    },
    {
      "cell_type": "markdown",
      "source": [
        "if else statement\n"
      ],
      "metadata": {
        "id": "M7hN8p3I5fan"
      }
    },
    {
      "cell_type": "code",
      "source": [
        "a = 30\n",
        "b  =13\n",
        "if(a>b):\n",
        "  print('a is the greatest number')\n",
        "else:\n",
        "  print('b is greatest number ')"
      ],
      "metadata": {
        "colab": {
          "base_uri": "https://localhost:8080/"
        },
        "id": "hatq_bYs5inE",
        "outputId": "221f8e69-22ed-4cb3-d92f-c7bb7d85a81a"
      },
      "execution_count": null,
      "outputs": [
        {
          "output_type": "stream",
          "name": "stdout",
          "text": [
            "a is the greatest number\n"
          ]
        }
      ]
    },
    {
      "cell_type": "code",
      "source": [
        "#if ():\n",
        "     #print()\n",
        "  #elif():\n",
        "      #print()\n",
        "  #else:\n",
        "       #print()"
      ],
      "metadata": {
        "id": "wxccve2x5xi5"
      },
      "execution_count": null,
      "outputs": []
    },
    {
      "cell_type": "code",
      "source": [
        "a =2\n",
        "b =21\n",
        "c =43\n",
        "if(a>b):\n",
        "  if(a>c):\n",
        "    print('a is greatest')\n",
        "  else:\n",
        "    print('c is greatest')\n",
        "else:\n",
        "  if(b>c):\n",
        "    print('bis greatest')\n",
        "  else:\n",
        "    print('c is greatest')"
      ],
      "metadata": {
        "colab": {
          "base_uri": "https://localhost:8080/"
        },
        "id": "PSyudiZp6LkC",
        "outputId": "a6d8545b-0535-4d55-9bc2-285c96e5ad29"
      },
      "execution_count": null,
      "outputs": [
        {
          "output_type": "stream",
          "name": "stdout",
          "text": [
            "c is greatest\n"
          ]
        }
      ]
    },
    {
      "cell_type": "code",
      "source": [],
      "metadata": {
        "id": "fbZhkjEu6r3o"
      },
      "execution_count": null,
      "outputs": []
    },
    {
      "cell_type": "markdown",
      "source": [
        "for loop"
      ],
      "metadata": {
        "id": "s3rW7ZD_6vth"
      }
    },
    {
      "cell_type": "code",
      "source": [
        "sum =0;\n",
        "for i in range(5):\n",
        "  num = int(input('enter the num: '))\n",
        "  sum +=num\n",
        "print(sum)"
      ],
      "metadata": {
        "colab": {
          "base_uri": "https://localhost:8080/"
        },
        "id": "sZAtlCpn6xkW",
        "outputId": "15405ea3-7042-4921-8fb3-2a832c614954"
      },
      "execution_count": null,
      "outputs": [
        {
          "output_type": "stream",
          "name": "stdout",
          "text": [
            "enter the price of laptop : 2\n",
            "enter the price of laptop : 3\n",
            "enter the price of laptop : 1\n",
            "enter the price of laptop : 4\n",
            "enter the price of laptop : 5\n",
            "15\n"
          ]
        }
      ]
    },
    {
      "cell_type": "code",
      "source": [
        "nums  = [2,34,42,42]\n",
        "for i in nums:\n",
        "  print(i)"
      ],
      "metadata": {
        "colab": {
          "base_uri": "https://localhost:8080/"
        },
        "id": "OlwyGecx7TCM",
        "outputId": "92422cba-63f9-44cf-d5b8-ac8ccc585ec2"
      },
      "execution_count": null,
      "outputs": [
        {
          "output_type": "stream",
          "name": "stdout",
          "text": [
            "2\n",
            "34\n",
            "42\n",
            "42\n"
          ]
        }
      ]
    },
    {
      "cell_type": "markdown",
      "source": [
        "while loop\n"
      ],
      "metadata": {
        "id": "c9b3-tlQ7mnV"
      }
    },
    {
      "cell_type": "code",
      "source": [
        "i =0\n",
        "while i<=10:\n",
        "  print(i)\n",
        "  i+=1"
      ],
      "metadata": {
        "colab": {
          "base_uri": "https://localhost:8080/"
        },
        "id": "kFdgDIp27oHn",
        "outputId": "49edcf36-b36b-4d27-81f1-c3ecadaf989c"
      },
      "execution_count": null,
      "outputs": [
        {
          "output_type": "stream",
          "name": "stdout",
          "text": [
            "0\n",
            "1\n",
            "2\n",
            "3\n",
            "4\n",
            "5\n",
            "6\n",
            "7\n",
            "8\n",
            "9\n",
            "10\n"
          ]
        }
      ]
    },
    {
      "cell_type": "markdown",
      "source": [
        "function in python\n"
      ],
      "metadata": {
        "id": "5kFOTwzX78vg"
      }
    },
    {
      "cell_type": "code",
      "source": [
        "#factorial of a number"
      ],
      "metadata": {
        "id": "_kS0ZZvj7_HE"
      },
      "execution_count": null,
      "outputs": []
    },
    {
      "cell_type": "code",
      "source": [
        "num =6\n",
        "fac =1\n",
        "for i in range(1, num+1):\n",
        "  fac = fac*i\n",
        "print(fac)"
      ],
      "metadata": {
        "colab": {
          "base_uri": "https://localhost:8080/"
        },
        "id": "wzFD0nR28UnF",
        "outputId": "00219999-a81c-422c-dc8d-3affc3e8a974"
      },
      "execution_count": null,
      "outputs": [
        {
          "output_type": "stream",
          "name": "stdout",
          "text": [
            "720\n"
          ]
        }
      ]
    },
    {
      "cell_type": "markdown",
      "source": [
        "factorial function"
      ],
      "metadata": {
        "id": "tuCxoWgO80EN"
      }
    },
    {
      "cell_type": "code",
      "source": [
        "def factorial(num):\n",
        "  fac =1\n",
        "  for i in range(1, num+1):\n",
        "      fac = fac*i\n",
        "  return fac"
      ],
      "metadata": {
        "id": "r062GgJu81xR"
      },
      "execution_count": 2,
      "outputs": []
    },
    {
      "cell_type": "code",
      "source": [
        "print(factorial(6))"
      ],
      "metadata": {
        "colab": {
          "base_uri": "https://localhost:8080/"
        },
        "id": "MdoKiJDc9POB",
        "outputId": "523e5b1b-a0f2-4c2a-86be-cec8a73d7d00"
      },
      "execution_count": 3,
      "outputs": [
        {
          "output_type": "stream",
          "name": "stdout",
          "text": [
            "720\n"
          ]
        }
      ]
    },
    {
      "cell_type": "code",
      "source": [
        "print(factorial(4))"
      ],
      "metadata": {
        "id": "bGpVXFC99Xlm",
        "colab": {
          "base_uri": "https://localhost:8080/"
        },
        "outputId": "88991a2c-0c13-4944-8b95-e2c508fbefb9"
      },
      "execution_count": 4,
      "outputs": [
        {
          "output_type": "stream",
          "name": "stdout",
          "text": [
            "24\n"
          ]
        }
      ]
    }
  ]
}